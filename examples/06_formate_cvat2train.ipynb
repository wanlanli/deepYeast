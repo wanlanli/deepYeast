{
 "cells": [
  {
   "cell_type": "code",
   "execution_count": 1,
   "id": "28467b55-c0e9-4fb3-a761-89cb5b918fbd",
   "metadata": {},
   "outputs": [],
   "source": [
    "import sys\n",
    "sys.path.append(\"../../\")\n",
    "sys.path.append(\"../../deepYeast/\")\n",
    "from skimage.io import imread, imsave\n",
    "import matplotlib.pyplot as plt\n",
    "import numpy as np\n",
    "import os\n",
    "from deepYeast.analyser.utils import file_traverse\n",
    "from deepYeast.share.wl.utils import conver_cvat_to_trainset"
   ]
  },
  {
   "cell_type": "code",
   "execution_count": 8,
   "id": "42d6af97-94a6-4615-83f3-d4217e17f851",
   "metadata": {},
   "outputs": [],
   "source": [
    "cvat_download_root = \"/home/wlli/Downloads/train_datasets_20230830/\"\n",
    "train_set_save_root = \"/home/wlli/Downloads/train_20230830\""
   ]
  },
  {
   "cell_type": "code",
   "execution_count": 9,
   "id": "bd10d092-ea51-4302-933d-8d115ecf3fd7",
   "metadata": {},
   "outputs": [],
   "source": [
    "conver_cvat_to_trainset(cvat_download_root, train_set_save_root\n",
    "                       ,series_name=\"set1_140\")"
   ]
  },
  {
   "cell_type": "code",
   "execution_count": null,
   "id": "9144c5e0-cd1a-4bfb-999b-081590d1b026",
   "metadata": {},
   "outputs": [],
   "source": []
  }
 ],
 "metadata": {
  "kernelspec": {
   "display_name": "Python 3 (ipykernel)",
   "language": "python",
   "name": "python3"
  },
  "language_info": {
   "codemirror_mode": {
    "name": "ipython",
    "version": 3
   },
   "file_extension": ".py",
   "mimetype": "text/x-python",
   "name": "python",
   "nbconvert_exporter": "python",
   "pygments_lexer": "ipython3",
   "version": "3.9.0"
  }
 },
 "nbformat": 4,
 "nbformat_minor": 5
}
