{
 "cells": [
  {
   "cell_type": "code",
   "execution_count": 1,
   "id": "28467b55-c0e9-4fb3-a761-89cb5b918fbd",
   "metadata": {},
   "outputs": [],
   "source": [
    "import sys\n",
    "sys.path.append(\"../../\")\n",
    "sys.path.append(\"../../deepYeast/\")\n",
    "from skimage.io import imread, imsave\n",
    "import matplotlib.pyplot as plt\n",
    "import numpy as np\n",
    "import os\n",
    "from deepYeast.analyser.utils import file_traverse\n",
    "from deepYeast.share.wl.utils import convert_cvat_to_trainingset\n",
    "from deepYeast.share.wl.upload_mask_to_cvat import mask_to_cvat"
   ]
  },
  {
   "cell_type": "code",
   "execution_count": 2,
   "id": "42d6af97-94a6-4615-83f3-d4217e17f851",
   "metadata": {},
   "outputs": [],
   "source": [
    "cvat_download_root = \"/home/wlli/Downloads/project_deepyeat trainingset_dataset_2024_06_20_13_53_04_cityscapes 1.0/\"\n",
    "train_set_save_root = \"/home/wlli/Downloads/project_deepyeat trainingset_dataset_2024_06_20_13_53_04_cityscapes 1.0/tf\""
   ]
  },
  {
   "cell_type": "code",
   "execution_count": 6,
   "id": "bd10d092-ea51-4302-933d-8d115ecf3fd7",
   "metadata": {},
   "outputs": [],
   "source": [
    "convert_cvat_to_trainingset(cvat_download_root, train_set_save_root\n",
    "                       ,series_name=\"set1_140\")"
   ]
  },
  {
   "cell_type": "code",
   "execution_count": null,
   "id": "e35c00b8-dbf7-4d36-96a3-64aa553da2f6",
   "metadata": {},
   "outputs": [],
   "source": []
  },
  {
   "cell_type": "code",
   "execution_count": 7,
   "id": "9144c5e0-cd1a-4bfb-999b-081590d1b026",
   "metadata": {},
   "outputs": [],
   "source": [
    "a = file_traverse(os.path.join(cvat_download_root, \"imgsFine\"),  file_regular=r'.*[(.png) | (.tif)]$')"
   ]
  },
  {
   "cell_type": "code",
   "execution_count": 4,
   "id": "f0546a93-59a2-4251-8c84-328a314d2044",
   "metadata": {},
   "outputs": [
    {
     "name": "stderr",
     "output_type": "stream",
     "text": [
      "/home/wlli/miniconda3/envs/deepyeast/lib/python3.9/site-packages/imageio/plugins/pillow.py:297: UserWarning: Loading 16-bit (uint16) PNG as int32 due to limitations in pillow's PNG decoder. This will be fixed in a future version of pillow which will make this warning dissapear.\n",
      "  warnings.warn(\n"
     ]
    },
    {
     "ename": "AttributeError",
     "evalue": "'Series' object has no attribute 'semantic'",
     "output_type": "error",
     "traceback": [
      "\u001b[0;31m---------------------------------------------------------------------------\u001b[0m",
      "\u001b[0;31mAttributeError\u001b[0m                            Traceback (most recent call last)",
      "\u001b[0;32m/tmp/ipykernel_3498985/513592891.py\u001b[0m in \u001b[0;36m?\u001b[0;34m()\u001b[0m\n\u001b[0;32m----> 1\u001b[0;31m mask_to_cvat( \"/home/wlli/Downloads/project_deepyeat trainingset_dataset_2024_06_20_13_53_04_cityscapes 1.0/tf/instance_maps/train/set1_140\",\n\u001b[0m\u001b[1;32m      2\u001b[0m             \"/home/wlli/Downloads/project_deepyeat trainingset_dataset_2024_06_20_13_53_04_cityscapes 1.0/xml\")\n",
      "\u001b[0;32m../../deepYeast/share/wl/upload_mask_to_cvat.py\u001b[0m in \u001b[0;36m?\u001b[0;34m(input_path, out_file)\u001b[0m\n\u001b[1;32m     79\u001b[0m         \u001b[0;32mfor\u001b[0m \u001b[0mi\u001b[0m \u001b[0;32min\u001b[0m \u001b[0mrange\u001b[0m\u001b[0;34m(\u001b[0m\u001b[0;36m0\u001b[0m\u001b[0;34m,\u001b[0m \u001b[0mmf\u001b[0m\u001b[0;34m.\u001b[0m\u001b[0minstance_properties\u001b[0m\u001b[0;34m.\u001b[0m\u001b[0mshape\u001b[0m\u001b[0;34m[\u001b[0m\u001b[0;36m0\u001b[0m\u001b[0;34m]\u001b[0m\u001b[0;34m)\u001b[0m\u001b[0;34m:\u001b[0m\u001b[0;34m\u001b[0m\u001b[0;34m\u001b[0m\u001b[0m\n\u001b[1;32m     80\u001b[0m             \u001b[0;31m#  add new polygon\u001b[0m\u001b[0;34m\u001b[0m\u001b[0;34m\u001b[0m\u001b[0;34m\u001b[0m\u001b[0m\n\u001b[1;32m     81\u001b[0m             \u001b[0mobj\u001b[0m \u001b[0;34m=\u001b[0m \u001b[0mmf\u001b[0m\u001b[0;34m.\u001b[0m\u001b[0minstance_properties\u001b[0m\u001b[0;34m.\u001b[0m\u001b[0miloc\u001b[0m\u001b[0;34m[\u001b[0m\u001b[0mi\u001b[0m\u001b[0;34m]\u001b[0m\u001b[0;34m\u001b[0m\u001b[0;34m\u001b[0m\u001b[0m\n\u001b[1;32m     82\u001b[0m             \u001b[0mnew_polygon\u001b[0m \u001b[0;34m=\u001b[0m \u001b[0mdom\u001b[0m\u001b[0;34m.\u001b[0m\u001b[0mcreateElement\u001b[0m\u001b[0;34m(\u001b[0m\u001b[0;34m'polygon'\u001b[0m\u001b[0;34m)\u001b[0m\u001b[0;34m\u001b[0m\u001b[0;34m\u001b[0m\u001b[0m\n\u001b[0;32m---> 83\u001b[0;31m             \u001b[0mnew_polygon\u001b[0m\u001b[0;34m.\u001b[0m\u001b[0msetAttribute\u001b[0m\u001b[0;34m(\u001b[0m\u001b[0;34m'label'\u001b[0m\u001b[0;34m,\u001b[0m \u001b[0mTYPEMAP\u001b[0m\u001b[0;34m[\u001b[0m\u001b[0mobj\u001b[0m\u001b[0;34m.\u001b[0m\u001b[0msemantic\u001b[0m\u001b[0;34m]\u001b[0m\u001b[0;34m)\u001b[0m\u001b[0;34m\u001b[0m\u001b[0;34m\u001b[0m\u001b[0m\n\u001b[0m\u001b[1;32m     84\u001b[0m             \u001b[0mnew_polygon\u001b[0m\u001b[0;34m.\u001b[0m\u001b[0msetAttribute\u001b[0m\u001b[0;34m(\u001b[0m\u001b[0;34m'occluded'\u001b[0m\u001b[0;34m,\u001b[0m \u001b[0;34m\"0\"\u001b[0m\u001b[0;34m)\u001b[0m\u001b[0;34m\u001b[0m\u001b[0;34m\u001b[0m\u001b[0m\n\u001b[1;32m     85\u001b[0m             \u001b[0mnew_polygon\u001b[0m\u001b[0;34m.\u001b[0m\u001b[0msetAttribute\u001b[0m\u001b[0;34m(\u001b[0m\u001b[0;34m'source'\u001b[0m\u001b[0;34m,\u001b[0m \u001b[0;34m\"manual\"\u001b[0m\u001b[0;34m)\u001b[0m\u001b[0;34m\u001b[0m\u001b[0;34m\u001b[0m\u001b[0m\n\u001b[1;32m     86\u001b[0m             new_polygon.setAttribute('points', transform_coords_to_str(\n",
      "\u001b[0;32m~/miniconda3/envs/deepyeast/lib/python3.9/site-packages/pandas/core/generic.py\u001b[0m in \u001b[0;36m?\u001b[0;34m(self, name)\u001b[0m\n\u001b[1;32m   5898\u001b[0m             \u001b[0;32mand\u001b[0m \u001b[0mname\u001b[0m \u001b[0;32mnot\u001b[0m \u001b[0;32min\u001b[0m \u001b[0mself\u001b[0m\u001b[0;34m.\u001b[0m\u001b[0m_accessors\u001b[0m\u001b[0;34m\u001b[0m\u001b[0;34m\u001b[0m\u001b[0m\n\u001b[1;32m   5899\u001b[0m             \u001b[0;32mand\u001b[0m \u001b[0mself\u001b[0m\u001b[0;34m.\u001b[0m\u001b[0m_info_axis\u001b[0m\u001b[0;34m.\u001b[0m\u001b[0m_can_hold_identifiers_and_holds_name\u001b[0m\u001b[0;34m(\u001b[0m\u001b[0mname\u001b[0m\u001b[0;34m)\u001b[0m\u001b[0;34m\u001b[0m\u001b[0;34m\u001b[0m\u001b[0m\n\u001b[1;32m   5900\u001b[0m         ):\n\u001b[1;32m   5901\u001b[0m             \u001b[0;32mreturn\u001b[0m \u001b[0mself\u001b[0m\u001b[0;34m[\u001b[0m\u001b[0mname\u001b[0m\u001b[0;34m]\u001b[0m\u001b[0;34m\u001b[0m\u001b[0;34m\u001b[0m\u001b[0m\n\u001b[0;32m-> 5902\u001b[0;31m         \u001b[0;32mreturn\u001b[0m \u001b[0mobject\u001b[0m\u001b[0;34m.\u001b[0m\u001b[0m__getattribute__\u001b[0m\u001b[0;34m(\u001b[0m\u001b[0mself\u001b[0m\u001b[0;34m,\u001b[0m \u001b[0mname\u001b[0m\u001b[0;34m)\u001b[0m\u001b[0;34m\u001b[0m\u001b[0;34m\u001b[0m\u001b[0m\n\u001b[0m",
      "\u001b[0;31mAttributeError\u001b[0m: 'Series' object has no attribute 'semantic'"
     ]
    }
   ],
   "source": [
    "mask_to_cvat( \"/home/wlli/Downloads/project_deepyeat trainingset_dataset_2024_06_20_13_53_04_cityscapes 1.0/tf/instance_maps/train/set1_140\",\n",
    "            \"/home/wlli/Downloads/project_deepyeat trainingset_dataset_2024_06_20_13_53_04_cityscapes 1.0/xml\")"
   ]
  },
  {
   "cell_type": "code",
   "execution_count": 10,
   "id": "4642ef3c-95c8-40e2-becf-0b1976409162",
   "metadata": {},
   "outputs": [],
   "source": [
    "from skimage.io import imread\n",
    "from deepYeast.share.wl.meaure import ImageMeasure"
   ]
  },
  {
   "cell_type": "code",
   "execution_count": 7,
   "id": "8e11ac87-d7c7-4957-87bb-75dfc02e1de5",
   "metadata": {},
   "outputs": [
    {
     "name": "stderr",
     "output_type": "stream",
     "text": [
      "/home/wlli/miniconda3/envs/deepyeast/lib/python3.9/site-packages/imageio/plugins/pillow.py:297: UserWarning: Loading 16-bit (uint16) PNG as int32 due to limitations in pillow's PNG decoder. This will be fixed in a future version of pillow which will make this warning dissapear.\n",
      "  warnings.warn(\n"
     ]
    }
   ],
   "source": [
    "mask =  imread(\"/home/wlli/Downloads/project_deepyeat trainingset_dataset_2024_06_20_13_53_04_cityscapes 1.0/tf/instance_maps/train/set1_140/100x_bin1x1_2040x2040_DV_WT_01.png\")"
   ]
  },
  {
   "cell_type": "code",
   "execution_count": 11,
   "id": "ea7167da-1e6a-4846-9d10-51608f7549c8",
   "metadata": {},
   "outputs": [],
   "source": [
    "mf = ImageMeasure(mask)"
   ]
  },
  {
   "cell_type": "code",
   "execution_count": null,
   "id": "b33b9912-beac-49f8-a5ff-efeaf4b51018",
   "metadata": {},
   "outputs": [],
   "source": [
    "mf"
   ]
  },
  {
   "cell_type": "code",
   "execution_count": null,
   "id": "61a18ed1-5d82-49e6-9391-d18cfdec7326",
   "metadata": {},
   "outputs": [],
   "source": []
  },
  {
   "cell_type": "code",
   "execution_count": null,
   "id": "bbb3876c-6a0f-4f9a-bbee-94499f7cfe9f",
   "metadata": {},
   "outputs": [],
   "source": []
  }
 ],
 "metadata": {
  "kernelspec": {
   "display_name": "Python 3 (ipykernel)",
   "language": "python",
   "name": "python3"
  },
  "language_info": {
   "codemirror_mode": {
    "name": "ipython",
    "version": 3
   },
   "file_extension": ".py",
   "mimetype": "text/x-python",
   "name": "python",
   "nbconvert_exporter": "python",
   "pygments_lexer": "ipython3",
   "version": "3.9.0"
  }
 },
 "nbformat": 4,
 "nbformat_minor": 5
}
