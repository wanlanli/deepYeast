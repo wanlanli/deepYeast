{
 "cells": [
  {
   "cell_type": "code",
   "execution_count": 30,
   "id": "5ea652ae-e0db-4413-8b2a-6c243519dd5f",
   "metadata": {},
   "outputs": [],
   "source": [
    "import sys\n",
    "import os\n",
    "sys.path.append(\"../../deeplab/\")\n",
    "\n",
    "import yaml\n",
    "from skimage.io import imread, imsave\n",
    "import matplotlib.pyplot as plt\n",
    "import numpy as np\n",
    "from tqdm import trange\n",
    "\n",
    "from config_yml import ExperimentOptions\n",
    "from trainer.train import DeepCellModule\n",
    "from postprocess.post_process_utils import post_process_panoptic\n",
    "from analyser.utils import file_traverse"
   ]
  },
  {
   "cell_type": "code",
   "execution_count": 6,
   "id": "aa8568c0-df19-4a94-8596-341523a7658a",
   "metadata": {},
   "outputs": [],
   "source": [
    "mode = 'test' #train, evl, test\n",
    "model_dir = \"/home/wlli/Data/deepyeast_model/v1.0/checkpoint/\"\n",
    "train_dir = \"/home/wlli/Data/deepyeast_model/v1.0/tf/train*.tfrecord\"\n",
    "eval_dir = \"/home/wlli/Data/deepyeast_model/v1.0/tf/val*.tfrecord\"\n",
    "config_path = \"../../deeplab/configs/config_wl.yaml\"\n",
    "num_gpus = 0"
   ]
  },
  {
   "cell_type": "code",
   "execution_count": 9,
   "id": "1908e275-eff5-410a-b4fa-4b4446b26240",
   "metadata": {},
   "outputs": [
    {
     "name": "stderr",
     "output_type": "stream",
     "text": [
      "2023-11-10 10:34:49.427560: I tensorflow/core/platform/cpu_feature_guard.cc:193] This TensorFlow binary is optimized with oneAPI Deep Neural Network Library (oneDNN) to use the following CPU instructions in performance-critical operations:  SSE4.1 SSE4.2 AVX AVX2 FMA\n",
      "To enable them in other operations, rebuild TensorFlow with the appropriate compiler flags.\n",
      "2023-11-10 10:34:49.428231: I tensorflow/core/common_runtime/process_util.cc:146] Creating new thread pool with default inter op setting: 2. Tune using inter_op_parallelism_threads for best performance.\n"
     ]
    },
    {
     "name": "stdout",
     "output_type": "stream",
     "text": [
      "/home/wlli/Data/deepyeast_model/v1.0/checkpoint/\n",
      "restoring or initializing model...\n",
      "restored model from /home/wlli/Data/deepyeast_model/v1.0/checkpoint/ckpt-100000.\n",
      "restored from checkpoint: /home/wlli/Data/deepyeast_model/v1.0/checkpoint/ckpt-100000\n"
     ]
    }
   ],
   "source": [
    "with open(config_path, 'r') as f:\n",
    "    config = yaml.load(f, Loader=yaml.FullLoader)\n",
    "configs = ExperimentOptions(config)\n",
    "configs.model_options.backbone.drop_path_keep_prob=1\n",
    "configs.train_dataset_options.file_pattern=train_dir\n",
    "configs.eval_dataset_options.file_pattern=eval_dir\n",
    "\n",
    "cellmodel = DeepCellModule(mode, configs, num_gpus, model_dir=model_dir)"
   ]
  },
  {
   "cell_type": "code",
   "execution_count": 20,
   "id": "89928f2c-c71b-497d-8adf-a2b97efb59dd",
   "metadata": {},
   "outputs": [],
   "source": [
    "file_list = file_traverse(\"/media/wlli/T7/data/mating_all/\", file_regular=\".*./tif/.*_rigid.tif$\")[:23]"
   ]
  },
  {
   "cell_type": "code",
   "execution_count": 26,
   "id": "0de2d603-e06f-42ca-be4d-37f09cf4bf99",
   "metadata": {},
   "outputs": [],
   "source": [
    "image = imread(file_list[0])\n",
    "image = np.moveaxis(image, -1, 1)"
   ]
  },
  {
   "cell_type": "code",
   "execution_count": 27,
   "id": "42c79eec-7f6c-4324-9a48-c22a771343ad",
   "metadata": {},
   "outputs": [
    {
     "data": {
      "text/plain": [
       "(145, 4, 512, 512)"
      ]
     },
     "execution_count": 27,
     "metadata": {},
     "output_type": "execute_result"
    }
   ],
   "source": [
    "image.shape"
   ]
  },
  {
   "cell_type": "code",
   "execution_count": null,
   "id": "c0ceaa6e-1aba-4858-bd7f-c52d20f59cdd",
   "metadata": {},
   "outputs": [
    {
     "name": "stdout",
     "output_type": "stream",
     "text": [
      "/media/wlli/T7/data/mating_all/20220802_YAV2104xYAV2015_001/tif/20220802_YAV2104xYAV2105_001_01_R3D_REF_rigid.tif\n"
     ]
    },
    {
     "name": "stderr",
     "output_type": "stream",
     "text": [
      "100%|█████████████████████████████████████████████████████████████████████████████████████████████████████████████████████████████████████████████████████████████████████| 145/145 [33:05<00:00, 13.69s/it]\n"
     ]
    },
    {
     "name": "stdout",
     "output_type": "stream",
     "text": [
      "/media/wlli/T7/data/mating_all/20220802_YAV2104xYAV2015_001/tif/20220802_YAV2104xYAV2105_001_03_R3D_REF_rigid.tif\n"
     ]
    },
    {
     "name": "stderr",
     "output_type": "stream",
     "text": [
      "100%|█████████████████████████████████████████████████████████████████████████████████████████████████████████████████████████████████████████████████████████████████████| 145/145 [31:16<00:00, 12.94s/it]\n"
     ]
    },
    {
     "name": "stdout",
     "output_type": "stream",
     "text": [
      "/media/wlli/T7/data/mating_all/20220802_YAV2104xYAV2015_001/tif/20220802_YAV2104xYAV2105_001_04_R3D_REF_rigid.tif\n"
     ]
    },
    {
     "name": "stderr",
     "output_type": "stream",
     "text": [
      "100%|█████████████████████████████████████████████████████████████████████████████████████████████████████████████████████████████████████████████████████████████████████| 145/145 [32:16<00:00, 13.35s/it]\n"
     ]
    },
    {
     "name": "stdout",
     "output_type": "stream",
     "text": [
      "/media/wlli/T7/data/mating_all/20220802_YAV2104xYAV2015_001/tif/20220802_YAV2104xYAV2105_001_05_R3D_REF_rigid.tif\n"
     ]
    },
    {
     "name": "stderr",
     "output_type": "stream",
     "text": [
      "100%|█████████████████████████████████████████████████████████████████████████████████████████████████████████████████████████████████████████████████████████████████████| 145/145 [33:20<00:00, 13.80s/it]\n"
     ]
    },
    {
     "name": "stdout",
     "output_type": "stream",
     "text": [
      "/media/wlli/T7/data/mating_all/20220802_YAV2104xYAV2015_001/tif/20220802_YAV2104xYAV2105_001_06_R3D_REF_rigid.tif\n"
     ]
    },
    {
     "name": "stderr",
     "output_type": "stream",
     "text": [
      "100%|█████████████████████████████████████████████████████████████████████████████████████████████████████████████████████████████████████████████████████████████████████| 145/145 [31:40<00:00, 13.11s/it]\n"
     ]
    },
    {
     "name": "stdout",
     "output_type": "stream",
     "text": [
      "/media/wlli/T7/data/mating_all/20220802_YAV2104xYAV2015_001/tif/20220802_YAV2104xYAV2105_001_07_R3D_REF_rigid.tif\n"
     ]
    },
    {
     "name": "stderr",
     "output_type": "stream",
     "text": [
      "100%|█████████████████████████████████████████████████████████████████████████████████████████████████████████████████████████████████████████████████████████████████████| 145/145 [31:38<00:00, 13.09s/it]\n"
     ]
    },
    {
     "name": "stdout",
     "output_type": "stream",
     "text": [
      "/media/wlli/T7/data/mating_all/20220802_YAV2104xYAV2015_001/tif/20220802_YAV2104xYAV2105_001_08_R3D_REF_rigid.tif\n"
     ]
    },
    {
     "name": "stderr",
     "output_type": "stream",
     "text": [
      "100%|█████████████████████████████████████████████████████████████████████████████████████████████████████████████████████████████████████████████████████████████████████| 145/145 [32:50<00:00, 13.59s/it]\n"
     ]
    },
    {
     "name": "stdout",
     "output_type": "stream",
     "text": [
      "/media/wlli/T7/data/mating_all/20220802_YAV2104xYAV2015_001/tif/20220802_YAV2104xYAV2105_001_09_R3D_REF_rigid.tif\n"
     ]
    },
    {
     "name": "stderr",
     "output_type": "stream",
     "text": [
      "100%|█████████████████████████████████████████████████████████████████████████████████████████████████████████████████████████████████████████████████████████████████████| 145/145 [33:12<00:00, 13.74s/it]\n"
     ]
    },
    {
     "name": "stdout",
     "output_type": "stream",
     "text": [
      "/media/wlli/T7/data/mating_all/20220802_YAV2104xYAV2015_001/tif/20220802_YAV2104xYAV2105_001_10_R3D_REF_rigid.tif\n"
     ]
    },
    {
     "name": "stderr",
     "output_type": "stream",
     "text": [
      "100%|█████████████████████████████████████████████████████████████████████████████████████████████████████████████████████████████████████████████████████████████████████| 145/145 [34:58<00:00, 14.47s/it]\n"
     ]
    },
    {
     "name": "stdout",
     "output_type": "stream",
     "text": [
      "/media/wlli/T7/data/mating_all/20220802_YAV2104xYAV2015_001/tif/20220802_YAV2104xYAV2105_001_11_R3D_REF_rigid.tif\n"
     ]
    },
    {
     "name": "stderr",
     "output_type": "stream",
     "text": [
      "100%|█████████████████████████████████████████████████████████████████████████████████████████████████████████████████████████████████████████████████████████████████████| 145/145 [34:23<00:00, 14.23s/it]\n"
     ]
    },
    {
     "name": "stdout",
     "output_type": "stream",
     "text": [
      "/media/wlli/T7/data/mating_all/20220813_YAV2104xYAV2105_002/tif/YAV2104xYAV2105_20220826_exp011_01_R3D_rigid.tif\n"
     ]
    },
    {
     "name": "stderr",
     "output_type": "stream",
     "text": [
      "100%|█████████████████████████████████████████████████████████████████████████████████████████████████████████████████████████████████████████████████████████████████████| 145/145 [36:31<00:00, 15.11s/it]\n"
     ]
    },
    {
     "name": "stdout",
     "output_type": "stream",
     "text": [
      "/media/wlli/T7/data/mating_all/20220813_YAV2104xYAV2105_002/tif/YAV2104xYAV2105_20220826_exp011_02_R3D_rigid.tif\n"
     ]
    },
    {
     "name": "stderr",
     "output_type": "stream",
     "text": [
      " 96%|██████████████████████████████████████████████████████████████████████████████████████████████████████████████████████████████████████████████████████████████▏      | 139/145 [36:23<01:36, 16.15s/it]"
     ]
    }
   ],
   "source": [
    "for filename in file_list:\n",
    "    # filename = file_list[f]\n",
    "    print(filename)\n",
    "    image = imread(filename)\n",
    "    image = np.moveaxis(image, -1, 1)\n",
    "    for i in trange(0, image.shape[0]):\n",
    "        ref = image[i,0]\n",
    "        out = cellmodel.predict(ref)\n",
    "        out = out[\"panoptic_pred\"][0].numpy()\n",
    "        out = post_process_panoptic(out, area_threshold=200)\n",
    "        image[i,-1] = out\n",
    "    imsave(filename, image, imagej=True)"
   ]
  },
  {
   "cell_type": "code",
   "execution_count": null,
   "id": "f6fb1df0-11c3-40a1-b96f-693c0852d5e0",
   "metadata": {},
   "outputs": [],
   "source": []
  }
 ],
 "metadata": {
  "kernelspec": {
   "display_name": "Python 3 (ipykernel)",
   "language": "python",
   "name": "python3"
  },
  "language_info": {
   "codemirror_mode": {
    "name": "ipython",
    "version": 3
   },
   "file_extension": ".py",
   "mimetype": "text/x-python",
   "name": "python",
   "nbconvert_exporter": "python",
   "pygments_lexer": "ipython3",
   "version": "3.9.0"
  }
 },
 "nbformat": 4,
 "nbformat_minor": 5
}
