{
 "cells": [
  {
   "cell_type": "markdown",
   "id": "2de51ad0-0fc1-4aaf-b1d1-d5fcb93907f3",
   "metadata": {},
   "source": [
    "## DEMO"
   ]
  },
  {
   "cell_type": "markdown",
   "id": "26c5036f-44f2-4448-8b40-35c950afbf7d",
   "metadata": {},
   "source": [
    "### 01 load model"
   ]
  },
  {
   "cell_type": "code",
   "execution_count": 1,
   "id": "7e882287-180d-4fa7-86f3-630f762b1555",
   "metadata": {},
   "outputs": [],
   "source": [
    "import sys\n",
    "sys.path.append(\"../../../deepyeast/\")\n",
    "import os\n",
    "\n",
    "import numpy as np\n",
    "from tqdm import trange\n",
    "from skimage.io import imsave\n",
    "\n",
    "from utils import load_model\n",
    "from postprocess.post_process_utils import post_process_panoptic"
   ]
  },
  {
   "cell_type": "code",
   "execution_count": 2,
   "id": "2e661c57-ec58-4145-a0e1-4f0469d820ef",
   "metadata": {},
   "outputs": [
    {
     "name": "stderr",
     "output_type": "stream",
     "text": [
      "2023-01-03 02:06:55.686062: I tensorflow/core/platform/cpu_feature_guard.cc:193] This TensorFlow binary is optimized with oneAPI Deep Neural Network Library (oneDNN) to use the following CPU instructions in performance-critical operations:  AVX2 FMA\n",
      "To enable them in other operations, rebuild TensorFlow with the appropriate compiler flags.\n",
      "2023-01-03 02:07:00.185924: E tensorflow/stream_executor/cuda/cuda_blas.cc:2981] Unable to register cuBLAS factory: Attempting to register factory for plugin cuBLAS when one has already been registered\n",
      "2023-01-03 02:07:11.018351: W tensorflow/stream_executor/platform/default/dso_loader.cc:64] Could not load dynamic library 'libnvinfer.so.7'; dlerror: libnvinfer.so.7: cannot open shared object file: No such file or directory; LD_LIBRARY_PATH: /dcsrsoft/spack/arolle/v1.0/spack/opt/spack/linux-rhel8-zen/gcc-8.4.1/gcc-10.4.0-7fjdev7tbifqfonsjwlqmr6qcnza2ezu/lib64:/dcsrsoft/spack/arolle/v1.0/spack/opt/spack/linux-rhel8-zen/gcc-8.4.1/gcc-10.4.0-7fjdev7tbifqfonsjwlqmr6qcnza2ezu/lib:/dcsrsoft/spack/arolle/v1.0/spack/opt/spack/linux-rhel8-zen2/gcc-10.4.0/mpfr-4.1.0-4owr5jskgrebkppacvwkfa7tdtlqjalg/lib:/dcsrsoft/spack/arolle/v1.0/spack/opt/spack/linux-rhel8-zen2/gcc-10.4.0/gmp-6.2.1-rg3gv5myy7lt46cjxvmdmsghhyhxguqo/lib:/work/FAC/FBM/DMF/smartin/cellfusion/wanlan/miniconda3/envs/tf210/lib/\n",
      "2023-01-03 02:07:11.018480: W tensorflow/stream_executor/platform/default/dso_loader.cc:64] Could not load dynamic library 'libnvinfer_plugin.so.7'; dlerror: libnvinfer_plugin.so.7: cannot open shared object file: No such file or directory; LD_LIBRARY_PATH: /dcsrsoft/spack/arolle/v1.0/spack/opt/spack/linux-rhel8-zen/gcc-8.4.1/gcc-10.4.0-7fjdev7tbifqfonsjwlqmr6qcnza2ezu/lib64:/dcsrsoft/spack/arolle/v1.0/spack/opt/spack/linux-rhel8-zen/gcc-8.4.1/gcc-10.4.0-7fjdev7tbifqfonsjwlqmr6qcnza2ezu/lib:/dcsrsoft/spack/arolle/v1.0/spack/opt/spack/linux-rhel8-zen2/gcc-10.4.0/mpfr-4.1.0-4owr5jskgrebkppacvwkfa7tdtlqjalg/lib:/dcsrsoft/spack/arolle/v1.0/spack/opt/spack/linux-rhel8-zen2/gcc-10.4.0/gmp-6.2.1-rg3gv5myy7lt46cjxvmdmsghhyhxguqo/lib:/work/FAC/FBM/DMF/smartin/cellfusion/wanlan/miniconda3/envs/tf210/lib/\n",
      "2023-01-03 02:07:11.018487: W tensorflow/compiler/tf2tensorrt/utils/py_utils.cc:38] TF-TRT Warning: Cannot dlopen some TensorRT libraries. If you would like to use Nvidia GPU with TensorRT, please make sure the missing libraries mentioned above are installed properly.\n",
      "2023-01-03 02:07:30.286990: I tensorflow/core/platform/cpu_feature_guard.cc:193] This TensorFlow binary is optimized with oneAPI Deep Neural Network Library (oneDNN) to use the following CPU instructions in performance-critical operations:  AVX2 FMA\n",
      "To enable them in other operations, rebuild TensorFlow with the appropriate compiler flags.\n",
      "2023-01-03 02:07:33.629376: I tensorflow/core/common_runtime/gpu/gpu_device.cc:1616] Created device /job:localhost/replica:0/task:0/device:GPU:0 with 38224 MB memory:  -> device: 0, name: NVIDIA A100-PCIE-40GB, pci bus id: 0000:21:00.0, compute capability: 8.0\n"
     ]
    },
    {
     "name": "stdout",
     "output_type": "stream",
     "text": [
      "restoring or initializing model...\n",
      "restored model from ../../../model_dir/deepyeast_001/ckpt-63000.\n",
      "restored from checkpoint: ../../../model_dir/deepyeast_001/ckpt-63000\n"
     ]
    }
   ],
   "source": [
    "model = load_model(\"../../../model_dir/deepyeast_001/\", \"../../configs/config_wl.yaml\")"
   ]
  },
  {
   "cell_type": "markdown",
   "id": "aad15cb6-e53c-4090-9e44-514a84f041b6",
   "metadata": {},
   "source": [
    "### 02 load image and prediction mask"
   ]
  },
  {
   "cell_type": "code",
   "execution_count": 3,
   "id": "6a0d52fd-dc89-4152-89cd-3bc23b5a90a9",
   "metadata": {},
   "outputs": [],
   "source": [
    "from nd2reader import ND2Reader\n",
    "from analysis.utils import file_traverse"
   ]
  },
  {
   "cell_type": "code",
   "execution_count": 4,
   "id": "8b45f8dc-4367-4ca5-ab11-231aac4b67ee",
   "metadata": {},
   "outputs": [],
   "source": [
    "file_list = file_traverse(\"../../../../data/AV_SEG/Exponential-BF01/\")\n",
    "save_path = './test' "
   ]
  },
  {
   "cell_type": "code",
   "execution_count": 8,
   "id": "e23cfba5-71c4-472d-8dfb-7e603c6779d8",
   "metadata": {},
   "outputs": [
    {
     "name": "stdout",
     "output_type": "stream",
     "text": [
      "012_EX01\n"
     ]
    },
    {
     "name": "stderr",
     "output_type": "stream",
     "text": [
      "100%|██████████| 11/11 [02:10<00:00, 11.89s/it]\n"
     ]
    }
   ],
   "source": [
    "for i in range(0, len(file_list)):\n",
    "    file = file_list[i]\n",
    "    basename = os.path.basename(file)[:-4]\n",
    "    \n",
    "    images=ND2Reader(file)\n",
    "    img = np.array(images)\n",
    "    predict = np.zeros(img.shape)\n",
    "    print(basename)\n",
    "\n",
    "    for f in trange(img.shape[0]):\n",
    "        frame = img[f]\n",
    "        output = model.predict(frame)\n",
    "        mask = post_process_panoptic(output[\"panoptic_pred\"][0].numpy(), area_threshold=300)\n",
    "        predict[f] = mask\n",
    "    imsave(os.path.join(save_path, basename+\"_mask.tif\"),predict)"
   ]
  },
  {
   "cell_type": "code",
   "execution_count": null,
   "id": "910c6365-ec03-4cd9-bc49-e2c8362f5b51",
   "metadata": {},
   "outputs": [],
   "source": []
  }
 ],
 "metadata": {
  "kernelspec": {
   "display_name": "Python 3 (ipykernel)",
   "language": "python",
   "name": "python3"
  },
  "language_info": {
   "codemirror_mode": {
    "name": "ipython",
    "version": 3
   },
   "file_extension": ".py",
   "mimetype": "text/x-python",
   "name": "python",
   "nbconvert_exporter": "python",
   "pygments_lexer": "ipython3",
   "version": "3.9.13"
  }
 },
 "nbformat": 4,
 "nbformat_minor": 5
}
