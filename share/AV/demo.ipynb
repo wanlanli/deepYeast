{
 "cells": [
  {
   "cell_type": "markdown",
   "id": "2de51ad0-0fc1-4aaf-b1d1-d5fcb93907f3",
   "metadata": {},
   "source": [
    "## DEMO"
   ]
  },
  {
   "cell_type": "markdown",
   "id": "26c5036f-44f2-4448-8b40-35c950afbf7d",
   "metadata": {},
   "source": [
    "### 01 load model"
   ]
  },
  {
   "cell_type": "code",
   "execution_count": 1,
   "id": "7e882287-180d-4fa7-86f3-630f762b1555",
   "metadata": {},
   "outputs": [],
   "source": [
    "import sys\n",
    "sys.path.append(\"../../../deepyeast/\")\n",
    "import os\n",
    "\n",
    "import numpy as np\n",
    "from tqdm import trange\n",
    "from skimage.io import imsave\n",
    "\n",
    "from utils import load_model\n",
    "from postprocess.post_process_utils import post_process_panoptic"
   ]
  },
  {
   "cell_type": "code",
   "execution_count": 3,
   "id": "2e661c57-ec58-4145-a0e1-4f0469d820ef",
   "metadata": {},
   "outputs": [
    {
     "name": "stdout",
     "output_type": "stream",
     "text": [
      "restoring or initializing model...\n",
      "restored model from ../../../deepyeast_001/ckpt-73000.\n",
      "restored from checkpoint: ../../../deepyeast_001/ckpt-73000\n"
     ]
    }
   ],
   "source": [
    "model = load_model(\"../../../deepyeast_001/\", \"../../configs/config_wl.yaml\", num_gpus=0)"
   ]
  },
  {
   "cell_type": "markdown",
   "id": "aad15cb6-e53c-4090-9e44-514a84f041b6",
   "metadata": {},
   "source": [
    "### 02 load image and prediction mask"
   ]
  },
  {
   "cell_type": "code",
   "execution_count": 4,
   "id": "6a0d52fd-dc89-4152-89cd-3bc23b5a90a9",
   "metadata": {},
   "outputs": [],
   "source": [
    "from nd2reader import ND2Reader\n",
    "from analysis.utils import file_traverse"
   ]
  },
  {
   "cell_type": "code",
   "execution_count": 6,
   "id": "8b45f8dc-4367-4ca5-ab11-231aac4b67ee",
   "metadata": {},
   "outputs": [],
   "source": [
    "file_list = file_traverse(\"./test/001_EX01.nd2\")\n",
    "save_path = './test' "
   ]
  },
  {
   "cell_type": "code",
   "execution_count": 7,
   "id": "e23cfba5-71c4-472d-8dfb-7e603c6779d8",
   "metadata": {},
   "outputs": [
    {
     "name": "stdout",
     "output_type": "stream",
     "text": [
      "001_EX01\n"
     ]
    },
    {
     "name": "stderr",
     "output_type": "stream",
     "text": [
      "100%|███████████████████████████████████████████████████████████| 11/11 [08:08<00:00, 44.40s/it]\n"
     ]
    }
   ],
   "source": [
    "for i in range(0, len(file_list)):\n",
    "    file = file_list[i]\n",
    "    basename = os.path.basename(file)[:-4]\n",
    "    \n",
    "    images=ND2Reader(file)\n",
    "    img = np.array(images)\n",
    "    predict = np.zeros(img.shape)\n",
    "    print(basename)\n",
    "\n",
    "    for f in trange(img.shape[0]):\n",
    "        frame = img[f]\n",
    "        output = model.predict(frame)\n",
    "        mask = post_process_panoptic(output[\"panoptic_pred\"][0].numpy(), area_threshold=300)\n",
    "        predict[f] = mask\n",
    "    imsave(os.path.join(save_path, basename+\"_mask.tif\"),predict)"
   ]
  },
  {
   "cell_type": "code",
   "execution_count": null,
   "id": "910c6365-ec03-4cd9-bc49-e2c8362f5b51",
   "metadata": {},
   "outputs": [],
   "source": []
  }
 ],
 "metadata": {
  "kernelspec": {
   "display_name": "Python 3 (ipykernel)",
   "language": "python",
   "name": "python3"
  },
  "language_info": {
   "codemirror_mode": {
    "name": "ipython",
    "version": 3
   },
   "file_extension": ".py",
   "mimetype": "text/x-python",
   "name": "python",
   "nbconvert_exporter": "python",
   "pygments_lexer": "ipython3",
   "version": "3.9.15"
  },
  "vscode": {
   "interpreter": {
    "hash": "0ec63a2e7c07e20a5674405715d5a3e629be4fb202735b121f42b3ad4490e4a7"
   }
  }
 },
 "nbformat": 4,
 "nbformat_minor": 5
}
